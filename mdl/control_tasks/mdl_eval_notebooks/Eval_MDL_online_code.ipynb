{
 "cells": [
  {
   "cell_type": "code",
   "execution_count": 1,
   "metadata": {},
   "outputs": [],
   "source": [
    "import pickle\n",
    "import json\n",
    "import numpy as np"
   ]
  },
  {
   "cell_type": "markdown",
   "metadata": {},
   "source": [
    "Directory with your experiments:"
   ]
  },
  {
   "cell_type": "code",
   "execution_count": 2,
   "metadata": {},
   "outputs": [],
   "source": [
    "dir_with_experiments = '<insert your dir>'"
   ]
  },
  {
   "cell_type": "code",
   "execution_count": 3,
   "metadata": {},
   "outputs": [],
   "source": [
    "num_classes = 45  "
   ]
  },
  {
   "cell_type": "markdown",
   "metadata": {},
   "source": [
    "## Reading logs"
   ]
  },
  {
   "cell_type": "markdown",
   "metadata": {},
   "source": [
    "For example, let's look at the experiment with linguistic task, layer 1. "
   ]
  },
  {
   "cell_type": "markdown",
   "metadata": {},
   "source": [
    "### Test accuracy"
   ]
  },
  {
   "cell_type": "markdown",
   "metadata": {},
   "source": [
    "In the experiment folder you will find a file with the test scores for models trained on each portion. The last one is for the model trained on all data: this is accuracy of the standard probe."
   ]
  },
  {
   "cell_type": "code",
   "execution_count": 4,
   "metadata": {},
   "outputs": [],
   "source": [
    "test_report = json.load(open(dir_with_experiments + 'online_l1/online_test_report.json'))"
   ]
  },
  {
   "cell_type": "code",
   "execution_count": 5,
   "metadata": {},
   "outputs": [
    {
     "name": "stdout",
     "output_type": "stream",
     "text": [
      "Test accuracy (standard probe):  97.48\n"
     ]
    }
   ],
   "source": [
    "print(\"Test accuracy (standard probe): \", round(test_report[-1]['label_acc_test'] * 100, 2))"
   ]
  },
  {
   "cell_type": "markdown",
   "metadata": {},
   "source": [
    "### Codelength"
   ]
  },
  {
   "cell_type": "markdown",
   "metadata": {},
   "source": [
    "In the experiment folder you will find a file with the information needed to evaluate codelength:"
   ]
  },
  {
   "cell_type": "code",
   "execution_count": 6,
   "metadata": {},
   "outputs": [],
   "source": [
    "online_report = pickle.load(open(dir_with_experiments + 'online_l1/online_coding.pkl', 'rb'))"
   ]
  },
  {
   "cell_type": "markdown",
   "metadata": {},
   "source": [
    "This are the results for model trained on the first portion:"
   ]
  },
  {
   "cell_type": "code",
   "execution_count": 7,
   "metadata": {},
   "outputs": [
    {
     "data": {
      "text/plain": [
       "{'loss_dev': 21112.019271850586,\n",
       " 'loss_online_portion': 639.2815551757812,\n",
       " 'loss_test': 29243.463676452637,\n",
       " 'num_examples_dev': 1700,\n",
       " 'num_examples_online_portion': 40,\n",
       " 'num_examples_test': 2416,\n",
       " 'num_targets_dev': 40117,\n",
       " 'num_targets_online_portion': 1035,\n",
       " 'num_targets_real_dev': 40117,\n",
       " 'num_targets_real_online_portion': 1035,\n",
       " 'num_targets_real_test': 56684,\n",
       " 'num_targets_test': 56684,\n",
       " 'train_targets': 900}"
      ]
     },
     "execution_count": 7,
     "metadata": {},
     "output_type": "execute_result"
    }
   ],
   "source": [
    "online_report[0]"
   ]
  },
  {
   "cell_type": "markdown",
   "metadata": {},
   "source": [
    "Here number of examples is the number of sentences, number of targets is the number of actual targets (tokens)."
   ]
  },
  {
   "cell_type": "markdown",
   "metadata": {},
   "source": [
    "#### Uniform codelength"
   ]
  },
  {
   "cell_type": "code",
   "execution_count": 8,
   "metadata": {},
   "outputs": [],
   "source": [
    "train_size = online_report[-1]['train_targets']\n",
    "uniform_codelength = train_size * np.log2(num_classes)"
   ]
  },
  {
   "cell_type": "markdown",
   "metadata": {},
   "source": [
    "#### Online codelength"
   ]
  },
  {
   "cell_type": "markdown",
   "metadata": {},
   "source": [
    "Note that for MDL you __do not need__ the last portion - this is model trained on all data."
   ]
  },
  {
   "cell_type": "code",
   "execution_count": 9,
   "metadata": {},
   "outputs": [],
   "source": [
    "online_codelength = online_report[0]['train_targets'] * np.log2(num_classes) +\\\n",
    "sum([elem['loss_online_portion'] for elem in online_report[:-1]])               "
   ]
  },
  {
   "cell_type": "code",
   "execution_count": 10,
   "metadata": {},
   "outputs": [
    {
     "name": "stdout",
     "output_type": "stream",
     "text": [
      "Online codelength: 96.02 kbits\n",
      "Compression: 53.06 \n"
     ]
    }
   ],
   "source": [
    "print(\"Online codelength: {} kbits\".format(round(online_codelength / 1024, 2)))\n",
    "print(\"Compression: {} \".format(round(uniform_codelength / online_codelength, 2)))"
   ]
  },
  {
   "cell_type": "code",
   "execution_count": null,
   "metadata": {},
   "outputs": [],
   "source": []
  }
 ],
 "metadata": {
  "kernelspec": {
   "display_name": "Python 3",
   "language": "python",
   "name": "python3"
  },
  "language_info": {
   "codemirror_mode": {
    "name": "ipython",
    "version": 3
   },
   "file_extension": ".py",
   "mimetype": "text/x-python",
   "name": "python",
   "nbconvert_exporter": "python",
   "pygments_lexer": "ipython3",
   "version": "3.6.6"
  }
 },
 "nbformat": 4,
 "nbformat_minor": 2
}
