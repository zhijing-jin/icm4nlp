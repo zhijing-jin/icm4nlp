{
 "cells": [
  {
   "cell_type": "code",
   "execution_count": 1,
   "metadata": {},
   "outputs": [],
   "source": [
    "import pickle\n",
    "import json\n",
    "import numpy as np"
   ]
  },
  {
   "cell_type": "markdown",
   "metadata": {},
   "source": [
    "Directory with your experiments:"
   ]
  },
  {
   "cell_type": "code",
   "execution_count": 2,
   "metadata": {},
   "outputs": [],
   "source": [
    "dir_with_experiments = '<insert your dir>'"
   ]
  },
  {
   "cell_type": "code",
   "execution_count": 3,
   "metadata": {},
   "outputs": [],
   "source": [
    "num_classes = 45  \n",
    "num_targets = 950028"
   ]
  },
  {
   "cell_type": "markdown",
   "metadata": {},
   "source": [
    "## Codelength"
   ]
  },
  {
   "cell_type": "markdown",
   "metadata": {},
   "source": [
    "For example, let's look at the experiment with linguistic task, layer 1. "
   ]
  },
  {
   "cell_type": "markdown",
   "metadata": {},
   "source": [
    "#### Uniform codelength"
   ]
  },
  {
   "cell_type": "code",
   "execution_count": 4,
   "metadata": {},
   "outputs": [],
   "source": [
    "uniform_codelength = num_targets * np.log2(num_classes)"
   ]
  },
  {
   "cell_type": "markdown",
   "metadata": {},
   "source": [
    "#### Variational codelength"
   ]
  },
  {
   "cell_type": "markdown",
   "metadata": {},
   "source": [
    "In the experiment folder you will find a file with the information for each validation step. You have to use the last step."
   ]
  },
  {
   "cell_type": "code",
   "execution_count": 5,
   "metadata": {},
   "outputs": [],
   "source": [
    "report = json.load(open(dir_with_experiments + 'bayes_l1/train_report.json'))\n",
    "total_code = report[-1]['kl'] + report[-1]['train_xent']"
   ]
  },
  {
   "cell_type": "code",
   "execution_count": 6,
   "metadata": {},
   "outputs": [
    {
     "name": "stdout",
     "output_type": "stream",
     "text": [
      "Variational codelength: 85 kbits\n",
      "Compression: 59.76 \n"
     ]
    }
   ],
   "source": [
    "print(\"Variational codelength: {} kbits\".format(round(total_code / 1024)))\n",
    "print(\"Compression: {} \".format(round(uniform_codelength / total_code, 2)))"
   ]
  },
  {
   "cell_type": "markdown",
   "metadata": {},
   "source": [
    "## Induced probe architecture"
   ]
  },
  {
   "cell_type": "markdown",
   "metadata": {},
   "source": [
    "The report we used before contains also information about probe (report[-1]['bayes_masks_test'])\n",
    "#### But it is not correct and do not use it!"
   ]
  },
  {
   "cell_type": "markdown",
   "metadata": {},
   "source": [
    "### Look at the distributions"
   ]
  },
  {
   "cell_type": "markdown",
   "metadata": {},
   "source": [
    "To decide which weights can be pruned, we follow the original paper [Bayesian compression](https://arxiv.org/abs/1705.08665). Namely, we determining the threshold for pruning with manual inspection as usually there are two well separated clusters (signal and noise)."
   ]
  },
  {
   "cell_type": "code",
   "execution_count": 7,
   "metadata": {},
   "outputs": [
    {
     "name": "stdout",
     "output_type": "stream",
     "text": [
      "Populating the interactive namespace from numpy and matplotlib\n"
     ]
    }
   ],
   "source": [
    "import torch\n",
    "import sys\n",
    "sys.path.append('<insert path to the repo>/control_tasks') # insert path to the repo\n",
    "\n",
    "import matplotlib.pyplot as plt\n",
    "%pylab inline"
   ]
  },
  {
   "cell_type": "code",
   "execution_count": 8,
   "metadata": {},
   "outputs": [],
   "source": [
    "probe = torch.load(dir_with_experiments + 'bayes_l1/checkpoint/probe_199.pth') # last checkpoint"
   ]
  },
  {
   "cell_type": "code",
   "execution_count": 9,
   "metadata": {},
   "outputs": [],
   "source": [
    "masks, alphas = probe.get_masks([0, 0, 0], # thresholds for pruning - do not know for now\n",
    "                                return_log_alpha=True)"
   ]
  },
  {
   "cell_type": "markdown",
   "metadata": {},
   "source": [
    "#### Look at distributions for each probe layer and find a threshold."
   ]
  },
  {
   "cell_type": "code",
   "execution_count": 10,
   "metadata": {},
   "outputs": [
    {
     "data": {
      "text/plain": [
       "(array([  3.,   9.,  30., 133., 279., 140.,  57.,  12.,   8.,   3.,   1.,\n",
       "          3.,   8.,  32.,  66.,  71.,  53.,  34.,  35.,  47.]),\n",
       " array([-8.844007  , -8.030653  , -7.2173    , -6.403947  , -5.590594  ,\n",
       "        -4.7772408 , -3.9638872 , -3.1505342 , -2.3371809 , -1.5238277 ,\n",
       "        -0.7104745 ,  0.10287871,  0.91623193,  1.7295852 ,  2.5429382 ,\n",
       "         3.3562915 ,  4.169645  ,  4.982998  ,  5.796351  ,  6.6097045 ,\n",
       "         7.4230576 ], dtype=float32),\n",
       " <a list of 20 Patch objects>)"
      ]
     },
     "execution_count": 10,
     "metadata": {},
     "output_type": "execute_result"
    },
    {
     "data": {
      "image/png": "[encoded data removed]",
      "text/plain": [
       "<matplotlib.figure.Figure at 0x7f5eb524bef0>"
      ]
     },
     "metadata": {},
     "output_type": "display_data"
    }
   ],
   "source": [
    "plt.hist(alphas[0], bins=20)"
   ]
  },
  {
   "cell_type": "markdown",
   "metadata": {},
   "source": [
    "Here it looks like the clusters are separated by zero."
   ]
  },
  {
   "cell_type": "code",
   "execution_count": 11,
   "metadata": {},
   "outputs": [
    {
     "data": {
      "text/plain": [
       "(array([  5.,  14.,  11.,  13.,   8.,   2.,   0.,   0.,   0.,   1.,   5.,\n",
       "         34.,  88., 149., 174., 146., 126.,  82.,  76.,  66.]),\n",
       " array([-10.31048   ,  -9.453717  ,  -8.596953  ,  -7.7401905 ,\n",
       "         -6.8834276 ,  -6.0266643 ,  -5.169901  ,  -4.313138  ,\n",
       "         -3.4563746 ,  -2.5996115 ,  -1.7428484 ,  -0.8860852 ,\n",
       "         -0.02932205,   0.8274411 ,   1.6842043 ,   2.5409675 ,\n",
       "          3.3977306 ,   4.2544937 ,   5.111257  ,   5.96802   ,\n",
       "          6.8247833 ], dtype=float32),\n",
       " <a list of 20 Patch objects>)"
      ]
     },
     "execution_count": 11,
     "metadata": {},
     "output_type": "execute_result"
    },
    {
     "data": {
      "image/png": "[encoded data removed]",
      "text/plain": [
       "<matplotlib.figure.Figure at 0x7f5eb2ec10f0>"
      ]
     },
     "metadata": {},
     "output_type": "display_data"
    }
   ],
   "source": [
    "plt.hist(alphas[1], bins=20)"
   ]
  },
  {
   "cell_type": "markdown",
   "metadata": {},
   "source": [
    "Here, by -3 (or -4, -5)."
   ]
  },
  {
   "cell_type": "code",
   "execution_count": 12,
   "metadata": {},
   "outputs": [
    {
     "data": {
      "text/plain": [
       "(array([  6.,  21.,   6.,   4.,   0.,   0.,   0.,   1.,  30.,  98., 131.,\n",
       "        154., 149., 117.,  83.,  72.,  49.,  37.,  22.,  20.]),\n",
       " array([-9.721072  , -8.672385  , -7.623699  , -6.5750127 , -5.526326  ,\n",
       "        -4.477639  , -3.428953  , -2.3802664 , -1.3315798 , -0.28289324,\n",
       "         0.7657933 ,  1.8144798 ,  2.8631663 ,  3.911853  ,  4.9605393 ,\n",
       "         6.009226  ,  7.057913  ,  8.106599  ,  9.155286  , 10.203972  ,\n",
       "        11.252659  ], dtype=float32),\n",
       " <a list of 20 Patch objects>)"
      ]
     },
     "execution_count": 12,
     "metadata": {},
     "output_type": "execute_result"
    },
    {
     "data": {
      "image/png": "[encoded data removed]",
      "text/plain": [
       "<matplotlib.figure.Figure at 0x7f5eb2de57f0>"
      ]
     },
     "metadata": {},
     "output_type": "display_data"
    }
   ],
   "source": [
    "plt.hist(alphas[2], bins=20)"
   ]
  },
  {
   "cell_type": "markdown",
   "metadata": {},
   "source": [
    "Set thresholds and eval number of neurons at each layer."
   ]
  },
  {
   "cell_type": "code",
   "execution_count": 13,
   "metadata": {},
   "outputs": [],
   "source": [
    "thesholds = [0, -3, -5]\n",
    "\n",
    "masks, alphas = probe.get_masks(thesholds, # now we know them\n",
    "                                return_log_alpha=True)"
   ]
  },
  {
   "cell_type": "code",
   "execution_count": 14,
   "metadata": {},
   "outputs": [
    {
     "name": "stdout",
     "output_type": "stream",
     "text": [
      "Pruned architecture: 664-55-35\n"
     ]
    }
   ],
   "source": [
    "print(\"Pruned architecture: {}-{}-{}\".format(sum(masks[0]), sum(masks[1]), sum(masks[2])))"
   ]
  },
  {
   "cell_type": "code",
   "execution_count": null,
   "metadata": {},
   "outputs": [],
   "source": []
  }
 ],
 "metadata": {
  "kernelspec": {
   "display_name": "Python 3",
   "language": "python",
   "name": "python3"
  },
  "language_info": {
   "codemirror_mode": {
    "name": "ipython",
    "version": 3
   },
   "file_extension": ".py",
   "mimetype": "text/x-python",
   "name": "python",
   "nbconvert_exporter": "python",
   "pygments_lexer": "ipython3",
   "version": "3.6.6"
  }
 },
 "nbformat": 4,
 "nbformat_minor": 2
}
